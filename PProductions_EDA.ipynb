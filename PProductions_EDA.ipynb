{
 "cells": [
  {
   "cell_type": "markdown",
   "id": "1e92e8ed-4247-4eec-a699-8c0422b19cce",
   "metadata": {},
   "source": [
    "# Film development for PProductions: predicting IMDb ratings, pt. 1\n",
    "\n",
    "## Author: Letícia Zorzi Rama"
   ]
  },
  {
   "cell_type": "markdown",
   "id": "b080ac34-7045-48e8-84c5-afd251366b0e",
   "metadata": {},
   "source": [
    "## Project goal\n",
    "\n",
    "Perform an analysis on a film database to guide PProductions on which type of film should be developed next by predicting IMDb ratings.\n",
    "\n",
    "#### Summary\n",
    "1. Project setup, pt. 1 (this notebook)\n",
    "2. Exploratory Data Analysis - EDA (this notebook)\n",
    "3. Project setup, pt. 2 (PProductions_Prediction.ipynb)\n",
    "4. Predicting from the data (PProductions_Prediction.ipynb)"
   ]
  },
  {
   "cell_type": "markdown",
   "id": "54dbea48-a399-43e8-8254-bca5edac05c7",
   "metadata": {},
   "source": [
    "## 1. Project setup, pt. 1\n",
    "\n",
    "This part consists of:\n",
    "1. Imports\n",
    "2. Loading the `imdb` dataset\n",
    "3. Basic checks (format, header, column names, data types, NaN values, skewed variables) and general data processing (renaming columns)\n",
    "4. Data processing: after basic checking, process column by column with the specific treatments\n",
    "5. Final checks\n",
    "6. Data augmentation: enrich the IMDb dataset with budget, and revenue features from [The Movie Databse - TMDB](https://www.themoviedb.org)\n",
    "\n",
    "The enriched dataset named `imdb_tmdb` will be the dataset used in the project. So, the final step of this setup is:\n",
    "\n",
    "7. Loading the `imdb_tmdb` dataset\n",
    "8. Checking and processing new added columns\n",
    "9. Final checks"
   ]
  },
  {
   "cell_type": "markdown",
   "id": "f3617e03-a4a6-4904-a511-5da80aaca8e3",
   "metadata": {},
   "source": [
    "#### 1. Imports"
   ]
  },
  {
   "cell_type": "code",
   "execution_count": 1,
   "id": "55c72432-117a-4e99-bd21-535bef27453d",
   "metadata": {},
   "outputs": [],
   "source": [
    "import pandas as pd\n",
    "import numpy as np\n",
    "import matplotlib.pyplot as plt\n",
    "import seaborn as sns\n",
    "import requests\n",
    "from tqdm import tqdm\n",
    "from sklearn.preprocessing import MinMaxScaler\n",
    "from sklearn.feature_extraction.text import TfidfVectorizer\n",
    "from sklearn.linear_model import LogisticRegression\n",
    "from sklearn.model_selection import train_test_split \n",
    "from sklearn.metrics import classification_report"
   ]
  },
  {
   "cell_type": "markdown",
   "id": "d91c040f-3718-4efc-a854-ec5feaca2a9c",
   "metadata": {},
   "source": [
    "#### 2. Loading the `imdb` dataset"
   ]
  },
  {
   "cell_type": "code",
   "execution_count": 2,
   "id": "1afb019e-82ec-4d05-92e0-88ab8c9c4b1d",
   "metadata": {
    "scrolled": true
   },
   "outputs": [],
   "source": [
    "# Loading dataset\n",
    "df = pd.read_csv(\"desafio_indicium_imdb.csv\")"
   ]
  },
  {
   "cell_type": "markdown",
   "id": "8807f968-6a95-42a0-be63-226b49ccd338",
   "metadata": {},
   "source": [
    "#### 3. Basic checks"
   ]
  },
  {
   "cell_type": "code",
   "execution_count": 3,
   "id": "23ef1a68-4fcf-4352-a4f0-633dfa78bcde",
   "metadata": {},
   "outputs": [
    {
     "name": "stdout",
     "output_type": "stream",
     "text": [
      "(999, 16)\n"
     ]
    }
   ],
   "source": [
    "# Basic checking - Shape\n",
    "print(df.shape)"
   ]
  },
  {
   "cell_type": "code",
   "execution_count": 4,
   "id": "1c7b8c4d-ff0c-4857-88dd-d48e5a8cfee1",
   "metadata": {
    "scrolled": true
   },
   "outputs": [
    {
     "data": {
      "text/html": [
       "<div>\n",
       "<style scoped>\n",
       "    .dataframe tbody tr th:only-of-type {\n",
       "        vertical-align: middle;\n",
       "    }\n",
       "\n",
       "    .dataframe tbody tr th {\n",
       "        vertical-align: top;\n",
       "    }\n",
       "\n",
       "    .dataframe thead th {\n",
       "        text-align: right;\n",
       "    }\n",
       "</style>\n",
       "<table border=\"1\" class=\"dataframe\">\n",
       "  <thead>\n",
       "    <tr style=\"text-align: right;\">\n",
       "      <th></th>\n",
       "      <th>Unnamed: 0</th>\n",
       "      <th>Series_Title</th>\n",
       "      <th>Released_Year</th>\n",
       "      <th>Certificate</th>\n",
       "      <th>Runtime</th>\n",
       "      <th>Genre</th>\n",
       "      <th>IMDB_Rating</th>\n",
       "      <th>Overview</th>\n",
       "      <th>Meta_score</th>\n",
       "      <th>Director</th>\n",
       "      <th>Star1</th>\n",
       "      <th>Star2</th>\n",
       "      <th>Star3</th>\n",
       "      <th>Star4</th>\n",
       "      <th>No_of_Votes</th>\n",
       "      <th>Gross</th>\n",
       "    </tr>\n",
       "  </thead>\n",
       "  <tbody>\n",
       "    <tr>\n",
       "      <th>0</th>\n",
       "      <td>1</td>\n",
       "      <td>The Godfather</td>\n",
       "      <td>1972</td>\n",
       "      <td>A</td>\n",
       "      <td>175 min</td>\n",
       "      <td>Crime, Drama</td>\n",
       "      <td>9.2</td>\n",
       "      <td>An organized crime dynasty's aging patriarch t...</td>\n",
       "      <td>100.0</td>\n",
       "      <td>Francis Ford Coppola</td>\n",
       "      <td>Marlon Brando</td>\n",
       "      <td>Al Pacino</td>\n",
       "      <td>James Caan</td>\n",
       "      <td>Diane Keaton</td>\n",
       "      <td>1620367</td>\n",
       "      <td>134,966,411</td>\n",
       "    </tr>\n",
       "    <tr>\n",
       "      <th>1</th>\n",
       "      <td>2</td>\n",
       "      <td>The Dark Knight</td>\n",
       "      <td>2008</td>\n",
       "      <td>UA</td>\n",
       "      <td>152 min</td>\n",
       "      <td>Action, Crime, Drama</td>\n",
       "      <td>9.0</td>\n",
       "      <td>When the menace known as the Joker wreaks havo...</td>\n",
       "      <td>84.0</td>\n",
       "      <td>Christopher Nolan</td>\n",
       "      <td>Christian Bale</td>\n",
       "      <td>Heath Ledger</td>\n",
       "      <td>Aaron Eckhart</td>\n",
       "      <td>Michael Caine</td>\n",
       "      <td>2303232</td>\n",
       "      <td>534,858,444</td>\n",
       "    </tr>\n",
       "    <tr>\n",
       "      <th>2</th>\n",
       "      <td>3</td>\n",
       "      <td>The Godfather: Part II</td>\n",
       "      <td>1974</td>\n",
       "      <td>A</td>\n",
       "      <td>202 min</td>\n",
       "      <td>Crime, Drama</td>\n",
       "      <td>9.0</td>\n",
       "      <td>The early life and career of Vito Corleone in ...</td>\n",
       "      <td>90.0</td>\n",
       "      <td>Francis Ford Coppola</td>\n",
       "      <td>Al Pacino</td>\n",
       "      <td>Robert De Niro</td>\n",
       "      <td>Robert Duvall</td>\n",
       "      <td>Diane Keaton</td>\n",
       "      <td>1129952</td>\n",
       "      <td>57,300,000</td>\n",
       "    </tr>\n",
       "    <tr>\n",
       "      <th>3</th>\n",
       "      <td>4</td>\n",
       "      <td>12 Angry Men</td>\n",
       "      <td>1957</td>\n",
       "      <td>U</td>\n",
       "      <td>96 min</td>\n",
       "      <td>Crime, Drama</td>\n",
       "      <td>9.0</td>\n",
       "      <td>A jury holdout attempts to prevent a miscarria...</td>\n",
       "      <td>96.0</td>\n",
       "      <td>Sidney Lumet</td>\n",
       "      <td>Henry Fonda</td>\n",
       "      <td>Lee J. Cobb</td>\n",
       "      <td>Martin Balsam</td>\n",
       "      <td>John Fiedler</td>\n",
       "      <td>689845</td>\n",
       "      <td>4,360,000</td>\n",
       "    </tr>\n",
       "    <tr>\n",
       "      <th>4</th>\n",
       "      <td>5</td>\n",
       "      <td>The Lord of the Rings: The Return of the King</td>\n",
       "      <td>2003</td>\n",
       "      <td>U</td>\n",
       "      <td>201 min</td>\n",
       "      <td>Action, Adventure, Drama</td>\n",
       "      <td>8.9</td>\n",
       "      <td>Gandalf and Aragorn lead the World of Men agai...</td>\n",
       "      <td>94.0</td>\n",
       "      <td>Peter Jackson</td>\n",
       "      <td>Elijah Wood</td>\n",
       "      <td>Viggo Mortensen</td>\n",
       "      <td>Ian McKellen</td>\n",
       "      <td>Orlando Bloom</td>\n",
       "      <td>1642758</td>\n",
       "      <td>377,845,905</td>\n",
       "    </tr>\n",
       "  </tbody>\n",
       "</table>\n",
       "</div>"
      ],
      "text/plain": [
       "   Unnamed: 0                                   Series_Title Released_Year  \\\n",
       "0           1                                  The Godfather          1972   \n",
       "1           2                                The Dark Knight          2008   \n",
       "2           3                         The Godfather: Part II          1974   \n",
       "3           4                                   12 Angry Men          1957   \n",
       "4           5  The Lord of the Rings: The Return of the King          2003   \n",
       "\n",
       "  Certificate  Runtime                     Genre  IMDB_Rating  \\\n",
       "0           A  175 min              Crime, Drama          9.2   \n",
       "1          UA  152 min      Action, Crime, Drama          9.0   \n",
       "2           A  202 min              Crime, Drama          9.0   \n",
       "3           U   96 min              Crime, Drama          9.0   \n",
       "4           U  201 min  Action, Adventure, Drama          8.9   \n",
       "\n",
       "                                            Overview  Meta_score  \\\n",
       "0  An organized crime dynasty's aging patriarch t...       100.0   \n",
       "1  When the menace known as the Joker wreaks havo...        84.0   \n",
       "2  The early life and career of Vito Corleone in ...        90.0   \n",
       "3  A jury holdout attempts to prevent a miscarria...        96.0   \n",
       "4  Gandalf and Aragorn lead the World of Men agai...        94.0   \n",
       "\n",
       "               Director           Star1            Star2          Star3  \\\n",
       "0  Francis Ford Coppola   Marlon Brando        Al Pacino     James Caan   \n",
       "1     Christopher Nolan  Christian Bale     Heath Ledger  Aaron Eckhart   \n",
       "2  Francis Ford Coppola       Al Pacino   Robert De Niro  Robert Duvall   \n",
       "3          Sidney Lumet     Henry Fonda      Lee J. Cobb  Martin Balsam   \n",
       "4         Peter Jackson     Elijah Wood  Viggo Mortensen   Ian McKellen   \n",
       "\n",
       "           Star4  No_of_Votes        Gross  \n",
       "0   Diane Keaton      1620367  134,966,411  \n",
       "1  Michael Caine      2303232  534,858,444  \n",
       "2   Diane Keaton      1129952   57,300,000  \n",
       "3   John Fiedler       689845    4,360,000  \n",
       "4  Orlando Bloom      1642758  377,845,905  "
      ]
     },
     "execution_count": 4,
     "metadata": {},
     "output_type": "execute_result"
    }
   ],
   "source": [
    "# Basic checking - Head\n",
    "df.head()"
   ]
  },
  {
   "cell_type": "code",
   "execution_count": 5,
   "id": "05531780-3dfb-48e7-92f9-9e7b8557d427",
   "metadata": {
    "scrolled": true
   },
   "outputs": [
    {
     "name": "stdout",
     "output_type": "stream",
     "text": [
      "<class 'pandas.core.frame.DataFrame'>\n",
      "RangeIndex: 999 entries, 0 to 998\n",
      "Data columns (total 16 columns):\n",
      " #   Column         Non-Null Count  Dtype  \n",
      "---  ------         --------------  -----  \n",
      " 0   Unnamed: 0     999 non-null    int64  \n",
      " 1   Series_Title   999 non-null    object \n",
      " 2   Released_Year  999 non-null    object \n",
      " 3   Certificate    898 non-null    object \n",
      " 4   Runtime        999 non-null    object \n",
      " 5   Genre          999 non-null    object \n",
      " 6   IMDB_Rating    999 non-null    float64\n",
      " 7   Overview       999 non-null    object \n",
      " 8   Meta_score     842 non-null    float64\n",
      " 9   Director       999 non-null    object \n",
      " 10  Star1          999 non-null    object \n",
      " 11  Star2          999 non-null    object \n",
      " 12  Star3          999 non-null    object \n",
      " 13  Star4          999 non-null    object \n",
      " 14  No_of_Votes    999 non-null    int64  \n",
      " 15  Gross          830 non-null    object \n",
      "dtypes: float64(2), int64(2), object(12)\n",
      "memory usage: 125.0+ KB\n",
      "None\n"
     ]
    }
   ],
   "source": [
    "# Basic checking - Columns names and its Data types\n",
    "print(df.info())"
   ]
  },
  {
   "cell_type": "code",
   "execution_count": 6,
   "id": "b48ea3b0-86bd-40ec-9507-d5e00b5b4a17",
   "metadata": {},
   "outputs": [
    {
     "data": {
      "text/plain": [
       "Index(['unnamed:_0', 'series_title', 'released_year', 'certificate', 'runtime',\n",
       "       'genre', 'imdb_rating', 'overview', 'meta_score', 'director', 'star1',\n",
       "       'star2', 'star3', 'star4', 'no_of_votes', 'gross'],\n",
       "      dtype='object')"
      ]
     },
     "execution_count": 6,
     "metadata": {},
     "output_type": "execute_result"
    }
   ],
   "source": [
    "# Data processing - Standardize column names\n",
    "df.columns = df.columns.str.strip().str.lower().str.replace(\" \", \"_\")\n",
    "\n",
    "# Checking renamed columns\n",
    "df.columns"
   ]
  },
  {
   "cell_type": "code",
   "execution_count": 7,
   "id": "2dc15341-96bb-46a8-8b43-5fc260afdf3e",
   "metadata": {},
   "outputs": [
    {
     "name": "stdout",
     "output_type": "stream",
     "text": [
      "unnamed:_0         0\n",
      "series_title       0\n",
      "released_year      0\n",
      "certificate      101\n",
      "runtime            0\n",
      "genre              0\n",
      "imdb_rating        0\n",
      "overview           0\n",
      "meta_score       157\n",
      "director           0\n",
      "star1              0\n",
      "star2              0\n",
      "star3              0\n",
      "star4              0\n",
      "no_of_votes        0\n",
      "gross            169\n",
      "dtype: int64\n"
     ]
    }
   ],
   "source": [
    "# Basic checking - NaN values\n",
    "print(df.isna().sum())\n",
    "\n",
    "# NaN values in: Certificate, Meta score, and Gross"
   ]
  },
  {
   "cell_type": "markdown",
   "id": "bd3aeac8-4d40-4594-8b4d-88bdfb930083",
   "metadata": {},
   "source": [
    "#### 4. Data processing - column by column"
   ]
  },
  {
   "cell_type": "markdown",
   "id": "c57c1e10-9fa0-45b4-a7ee-b23e897c1174",
   "metadata": {},
   "source": [
    "##### `released_year`"
   ]
  },
  {
   "cell_type": "code",
   "execution_count": 8,
   "id": "b182f3b5-b99c-4c9d-b83a-faa11b4dd257",
   "metadata": {},
   "outputs": [],
   "source": [
    "# Data Processing - Convert Data types\n",
    "\n",
    "# 'released_year': as integer, first 'Int64' \n",
    "df['released_year'] = pd.to_numeric(df['released_year'], errors='coerce').astype('Int64')"
   ]
  },
  {
   "cell_type": "code",
   "execution_count": 9,
   "id": "6797a525-3df6-43a7-abde-78cb35fe01d3",
   "metadata": {},
   "outputs": [
    {
     "data": {
      "text/html": [
       "<div>\n",
       "<style scoped>\n",
       "    .dataframe tbody tr th:only-of-type {\n",
       "        vertical-align: middle;\n",
       "    }\n",
       "\n",
       "    .dataframe tbody tr th {\n",
       "        vertical-align: top;\n",
       "    }\n",
       "\n",
       "    .dataframe thead th {\n",
       "        text-align: right;\n",
       "    }\n",
       "</style>\n",
       "<table border=\"1\" class=\"dataframe\">\n",
       "  <thead>\n",
       "    <tr style=\"text-align: right;\">\n",
       "      <th></th>\n",
       "      <th>unnamed:_0</th>\n",
       "      <th>series_title</th>\n",
       "      <th>released_year</th>\n",
       "      <th>certificate</th>\n",
       "      <th>runtime</th>\n",
       "      <th>genre</th>\n",
       "      <th>imdb_rating</th>\n",
       "      <th>overview</th>\n",
       "      <th>meta_score</th>\n",
       "      <th>director</th>\n",
       "      <th>star1</th>\n",
       "      <th>star2</th>\n",
       "      <th>star3</th>\n",
       "      <th>star4</th>\n",
       "      <th>no_of_votes</th>\n",
       "      <th>gross</th>\n",
       "    </tr>\n",
       "  </thead>\n",
       "  <tbody>\n",
       "    <tr>\n",
       "      <th>965</th>\n",
       "      <td>966</td>\n",
       "      <td>Apollo 13</td>\n",
       "      <td>&lt;NA&gt;</td>\n",
       "      <td>U</td>\n",
       "      <td>140 min</td>\n",
       "      <td>Adventure, Drama, History</td>\n",
       "      <td>7.6</td>\n",
       "      <td>NASA must devise a strategy to return Apollo 1...</td>\n",
       "      <td>77.0</td>\n",
       "      <td>Ron Howard</td>\n",
       "      <td>Tom Hanks</td>\n",
       "      <td>Bill Paxton</td>\n",
       "      <td>Kevin Bacon</td>\n",
       "      <td>Gary Sinise</td>\n",
       "      <td>269197</td>\n",
       "      <td>173,837,933</td>\n",
       "    </tr>\n",
       "  </tbody>\n",
       "</table>\n",
       "</div>"
      ],
      "text/plain": [
       "     unnamed:_0 series_title  released_year certificate  runtime  \\\n",
       "965         966    Apollo 13           <NA>           U  140 min   \n",
       "\n",
       "                         genre  imdb_rating  \\\n",
       "965  Adventure, Drama, History          7.6   \n",
       "\n",
       "                                              overview  meta_score  \\\n",
       "965  NASA must devise a strategy to return Apollo 1...        77.0   \n",
       "\n",
       "       director      star1        star2        star3        star4  \\\n",
       "965  Ron Howard  Tom Hanks  Bill Paxton  Kevin Bacon  Gary Sinise   \n",
       "\n",
       "     no_of_votes        gross  \n",
       "965       269197  173,837,933  "
      ]
     },
     "execution_count": 9,
     "metadata": {},
     "output_type": "execute_result"
    }
   ],
   "source": [
    "# Checking values after convert to integer\n",
    "\n",
    "# Checking the movie \n",
    "df[df.released_year.isna()]\n",
    "\n",
    "# 1 <NA> value\n",
    "# Identify the movie, search the released year and insert it"
   ]
  },
  {
   "cell_type": "code",
   "execution_count": 10,
   "id": "fcb6b397-45d2-4194-b53a-56af12c6fb32",
   "metadata": {},
   "outputs": [
    {
     "data": {
      "text/plain": [
       "np.int64(0)"
      ]
     },
     "execution_count": 10,
     "metadata": {},
     "output_type": "execute_result"
    }
   ],
   "source": [
    "# 'Apollo 13' released in 1995 (according to Wikipedia)\n",
    "# Filling <NA> value with 1995\n",
    "df.loc[df['series_title'] == 'Apollo 13', 'released_year'] = 1995\n",
    "\n",
    "# Checking\n",
    "df.released_year.isna().sum()"
   ]
  },
  {
   "cell_type": "code",
   "execution_count": 11,
   "id": "44c8f4cd-732d-4a2f-8870-9e7e9fc02731",
   "metadata": {},
   "outputs": [],
   "source": [
    "# Data Processing - Convert Data types\n",
    "\n",
    "# 'released_year': now as 'int64' \n",
    "df['released_year'] = pd.to_numeric(df['released_year'], errors='coerce').astype('int64')"
   ]
  },
  {
   "cell_type": "markdown",
   "id": "28cbcaab-863f-47f2-8f9e-d3a16cde2b43",
   "metadata": {},
   "source": [
    "##### `certificate`"
   ]
  },
  {
   "cell_type": "code",
   "execution_count": 12,
   "id": "04f2eefa-06cf-4c74-b477-50a0e71107a8",
   "metadata": {},
   "outputs": [],
   "source": [
    "# Data processing - NaN values \n",
    "# 101 NaN values\n",
    "# Since it's a categorical column, fill with the mode\n",
    "\n",
    "# Finding the mode...but discovering a mix of certifications systems\n",
    "df.groupby(['certificate']).size()\n",
    "\n",
    "# According to IMDb, the USA/Hollywood official certificate system is the MPA system (G, PG, PG-13, R, NC-17)\n",
    "# Standardize the dataset, with the related certificates between other system and the MPA\n",
    "\n",
    "# Mapping dictionary for the MPA system\n",
    "map_mpa = {\n",
    "    \"16\": \"R\",\n",
    "    \"A\": \"R\",\n",
    "    \"Approved\": \"G\",\n",
    "    \"GP\": \"PG\",\n",
    "    \"Passed\": \"G\",\n",
    "    \"TV-14\": \"PG-13\",\n",
    "    \"TV-MA\": \"R\",\n",
    "    \"TV-PG\": \"PG\",\n",
    "    \"U\": \"G\",\n",
    "    \"U/A\": \"PG\",\n",
    "    \"UA\": \"PG\",\n",
    "    # Keeping the originals\n",
    "    \"G\": \"G\",\n",
    "    \"PG\": \"PG\",\n",
    "    \"PG-13\": \"PG-13\",\n",
    "    \"R\": \"R\",\n",
    "    \"Unrated\": \"Unrated\"\n",
    "}\n",
    "\n",
    "# Apply the mapping\n",
    "df[\"certificate\"] = df[\"certificate\"].replace(map_mpa)"
   ]
  },
  {
   "cell_type": "code",
   "execution_count": 13,
   "id": "5ee873ca-cc3d-4c97-acd7-0d25e23ff905",
   "metadata": {},
   "outputs": [
    {
     "data": {
      "text/plain": [
       "certificate\n",
       "G          291\n",
       "PG         218\n",
       "PG-13       44\n",
       "R          344\n",
       "Unrated      1\n",
       "dtype: int64"
      ]
     },
     "execution_count": 13,
     "metadata": {},
     "output_type": "execute_result"
    }
   ],
   "source": [
    "# Finding the mode\n",
    "df.groupby(['certificate']).size()"
   ]
  },
  {
   "cell_type": "code",
   "execution_count": 14,
   "id": "72aca75f-af46-44e9-b5b2-8ed95ea2d584",
   "metadata": {},
   "outputs": [
    {
     "name": "stdout",
     "output_type": "stream",
     "text": [
      "0\n"
     ]
    }
   ],
   "source": [
    "# Now, filling NaN values with the mode\n",
    "df['certificate'] = df['certificate'].fillna('R')\n",
    "\n",
    "# Checking\n",
    "print(df.certificate.isna().sum())"
   ]
  },
  {
   "cell_type": "markdown",
   "id": "7376aded-6e97-4b0f-aa33-2afd65a79a79",
   "metadata": {},
   "source": [
    "##### `runtime`"
   ]
  },
  {
   "cell_type": "code",
   "execution_count": 15,
   "id": "c02f2af6-51f5-43bf-9575-c5ff807712c2",
   "metadata": {},
   "outputs": [],
   "source": [
    "# Data Processing - Convert Data types\n",
    "\n",
    "# 'runtime': extract minutes from strings like '142 min'\n",
    "df['runtime'] = df['runtime'].str.extract(r'(\\d+)').astype(float)"
   ]
  },
  {
   "cell_type": "code",
   "execution_count": 16,
   "id": "f09a8910-fd10-42a3-9af1-8faaae646fe0",
   "metadata": {},
   "outputs": [
    {
     "data": {
      "text/plain": [
       "count    999.000000\n",
       "mean     122.871872\n",
       "std       28.101227\n",
       "min       45.000000\n",
       "25%      103.000000\n",
       "50%      119.000000\n",
       "75%      137.000000\n",
       "max      321.000000\n",
       "Name: runtime, dtype: float64"
      ]
     },
     "execution_count": 16,
     "metadata": {},
     "output_type": "execute_result"
    }
   ],
   "source": [
    "# Checking distribution - Summary descriptive statistics\n",
    "df.runtime.describe()\n",
    "\n",
    "# 'runtime' looks fine"
   ]
  },
  {
   "cell_type": "code",
   "execution_count": 17,
   "id": "3db77e08-0ae0-4081-ae97-9a8ea9e8952a",
   "metadata": {},
   "outputs": [
    {
     "data": {
      "text/plain": [
       "<Axes: xlabel='runtime', ylabel='Count'>"
      ]
     },
     "execution_count": 17,
     "metadata": {},
     "output_type": "execute_result"
    },
    {
     "data": {
      "image/png": "[encoded data removed]",
      "text/plain": [
       "<Figure size 640x480 with 1 Axes>"
      ]
     },
     "metadata": {},
     "output_type": "display_data"
    }
   ],
   "source": [
    "# Checking distribution - Histogram\n",
    "sns.histplot(df.runtime)\n",
    "\n",
    "# 'runtime' looks fine"
   ]
  },
  {
   "cell_type": "markdown",
   "id": "b55d1e34-e34c-48f1-bfbf-f565b96fdd7a",
   "metadata": {},
   "source": [
    "##### `genre` and `main_genre`"
   ]
  },
  {
   "cell_type": "code",
   "execution_count": 18,
   "id": "7e9430a3-dd5b-48c7-a708-0d47a61a3ab3",
   "metadata": {},
   "outputs": [
    {
     "data": {
      "text/plain": [
       "['Crime, Drama',\n",
       " 'Action, Crime, Drama',\n",
       " 'Biography, Crime, Drama',\n",
       " 'Crime, Drama, Fantasy',\n",
       " 'Crime, Drama, Mystery',\n",
       " 'Crime, Drama, Thriller',\n",
       " 'Crime, Mystery, Thriller',\n",
       " 'Crime, Drama, Music',\n",
       " 'Comedy, Crime',\n",
       " 'Comedy, Crime, Drama',\n",
       " 'Crime, Drama, Sci-Fi',\n",
       " 'Crime, Drama, Film-Noir',\n",
       " 'Action, Comedy, Crime',\n",
       " 'Action, Biography, Crime',\n",
       " 'Crime, Thriller',\n",
       " 'Adventure, Comedy, Crime',\n",
       " 'Comedy, Crime, Romance',\n",
       " 'Comedy, Crime, Sport',\n",
       " 'Action, Crime, Thriller',\n",
       " 'Crime, Drama, Romance',\n",
       " 'Crime, Drama, Musical',\n",
       " 'Animation, Crime, Mystery',\n",
       " 'Action, Crime, Comedy',\n",
       " 'Animation, Action, Crime',\n",
       " 'Crime, Drama, Horror',\n",
       " 'Comedy, Crime, Thriller',\n",
       " 'Comedy, Crime, Mystery',\n",
       " 'Crime, Film-Noir, Thriller',\n",
       " 'Crime, Film-Noir, Mystery',\n",
       " 'Animation, Biography, Crime',\n",
       " 'Adventure, Biography, Crime',\n",
       " 'Crime, Drama, History',\n",
       " 'Animation, Comedy, Crime',\n",
       " 'Action, Adventure, Crime',\n",
       " 'Action, Crime, Mystery']"
      ]
     },
     "execution_count": 18,
     "metadata": {},
     "output_type": "execute_result"
    }
   ],
   "source": [
    "# Checking how gender is categorized\n",
    "genres = df.genre.unique()\n",
    "\n",
    "# Checking how gender is categorized, taking 'Crime' as a sample\n",
    "crime = [crime for crime in genres if 'Crime' in crime]\n",
    "crime\n",
    "\n",
    "# Genre is mostly multi-genre"
   ]
  },
  {
   "cell_type": "code",
   "execution_count": 19,
   "id": "ab64c05e-1796-4b33-8833-a6a62f7a6572",
   "metadata": {},
   "outputs": [],
   "source": [
    "# Engineered Column - 'main_genre'\n",
    "# Split first listed genre makes group comparisons clear\n",
    "df['main_genre'] = df['genre'].str.split(\",\").str[0].str.strip()"
   ]
  },
  {
   "cell_type": "markdown",
   "id": "fafbb379-97b2-45bb-9eed-b1c60911e479",
   "metadata": {},
   "source": [
    "##### `imdb_rating`"
   ]
  },
  {
   "cell_type": "code",
   "execution_count": 20,
   "id": "82579e57-ac9b-4c2c-ac37-09e6413a2a81",
   "metadata": {},
   "outputs": [
    {
     "data": {
      "text/plain": [
       "count    999.000000\n",
       "mean       7.947948\n",
       "std        0.272290\n",
       "min        7.600000\n",
       "25%        7.700000\n",
       "50%        7.900000\n",
       "75%        8.100000\n",
       "max        9.200000\n",
       "Name: imdb_rating, dtype: float64"
      ]
     },
     "execution_count": 20,
     "metadata": {},
     "output_type": "execute_result"
    }
   ],
   "source": [
    "# Checking distribution - Summary descriptive statistics\n",
    "df.imdb_rating.describe()"
   ]
  },
  {
   "cell_type": "code",
   "execution_count": 21,
   "id": "2a5e232c-c96a-40b2-901a-1242254cec47",
   "metadata": {},
   "outputs": [
    {
     "data": {
      "text/plain": [
       "<Axes: xlabel='imdb_rating', ylabel='Count'>"
      ]
     },
     "execution_count": 21,
     "metadata": {},
     "output_type": "execute_result"
    },
    {
     "data": {
      "image/png": "[encoded data removed]",
      "text/plain": [
       "<Figure size 640x480 with 1 Axes>"
      ]
     },
     "metadata": {},
     "output_type": "display_data"
    }
   ],
   "source": [
    "# Checking distribution - Histogram\n",
    "sns.histplot(df.imdb_rating)\n",
    "\n",
    "# 'imdb_rating' is right-skewed, but it won't be normalized, since it's the prediction target "
   ]
  },
  {
   "cell_type": "markdown",
   "id": "b8de0b87-c576-4a3e-b81f-b6ccd1bf4744",
   "metadata": {},
   "source": [
    "##### `overview` and `overview_len`"
   ]
  },
  {
   "cell_type": "code",
   "execution_count": 22,
   "id": "bb316eb9-653e-4a49-8f87-86f7bbbf6abe",
   "metadata": {},
   "outputs": [],
   "source": [
    "# Engineered Column - 'overview_len'\n",
    "# Counting words to create a numerical proxy for how detailed the description is\n",
    "# This will later help to explore overview correlations\n",
    "\n",
    "df['overview_len'] = df['overview'].astype(str).apply(lambda x: len(x.split()))"
   ]
  },
  {
   "cell_type": "markdown",
   "id": "299933c0-9626-436e-a33b-dcdfc7ad3aaa",
   "metadata": {},
   "source": [
    "##### `meta_score`"
   ]
  },
  {
   "cell_type": "code",
   "execution_count": 23,
   "id": "7349dfd8-621b-4ea1-8de3-d95262ca7d38",
   "metadata": {},
   "outputs": [
    {
     "name": "stdout",
     "output_type": "stream",
     "text": [
      "0\n"
     ]
    }
   ],
   "source": [
    "# Data processing - NaN values\n",
    "# 157 NaN values\n",
    "# Since it's a numeric column, fill with the median\n",
    "\n",
    "# Filling NaN values\n",
    "df['meta_score'] = df['meta_score'].fillna(df['meta_score'].median())\n",
    "\n",
    "# Checking\n",
    "print(df.meta_score.isna().sum())"
   ]
  },
  {
   "cell_type": "code",
   "execution_count": 24,
   "id": "382318dd-395c-4c49-bc9c-384da34ffdac",
   "metadata": {},
   "outputs": [
    {
     "data": {
      "text/plain": [
       "count    999.000000\n",
       "mean      78.131131\n",
       "std       11.373766\n",
       "min       28.000000\n",
       "25%       72.000000\n",
       "50%       79.000000\n",
       "75%       85.500000\n",
       "max      100.000000\n",
       "Name: meta_score, dtype: float64"
      ]
     },
     "execution_count": 24,
     "metadata": {},
     "output_type": "execute_result"
    }
   ],
   "source": [
    "# Checking distribution - Summary descriptive statistics \n",
    "df.meta_score.describe()"
   ]
  },
  {
   "cell_type": "code",
   "execution_count": 25,
   "id": "99db07ec-409d-4acc-b08b-da24a275661a",
   "metadata": {},
   "outputs": [
    {
     "data": {
      "text/plain": [
       "<Axes: xlabel='meta_score', ylabel='Count'>"
      ]
     },
     "execution_count": 25,
     "metadata": {},
     "output_type": "execute_result"
    },
    {
     "data": {
      "image/png": "[encoded data removed]",
      "text/plain": [
       "<Figure size 640x480 with 1 Axes>"
      ]
     },
     "metadata": {},
     "output_type": "display_data"
    }
   ],
   "source": [
    "# Checking distribution - Histogram\n",
    "sns.histplot(df.meta_score)\n",
    "\n",
    "# 'meta_score' is left-skewed, but it won't be normelized yet\n",
    "# Outliers were kept"
   ]
  },
  {
   "cell_type": "markdown",
   "id": "f6d44172-8432-4085-af68-528fc0b0b288",
   "metadata": {},
   "source": [
    "##### `no_of_votes` and `log_votes`"
   ]
  },
  {
   "cell_type": "code",
   "execution_count": 26,
   "id": "1a932114-0a4a-4d5d-9ac1-aafcbc784edf",
   "metadata": {},
   "outputs": [
    {
     "data": {
      "text/plain": [
       "count    9.990000e+02\n",
       "mean     2.716214e+05\n",
       "std      3.209126e+05\n",
       "min      2.508800e+04\n",
       "25%      5.547150e+04\n",
       "50%      1.383560e+05\n",
       "75%      3.731675e+05\n",
       "max      2.303232e+06\n",
       "Name: no_of_votes, dtype: float64"
      ]
     },
     "execution_count": 26,
     "metadata": {},
     "output_type": "execute_result"
    }
   ],
   "source": [
    "# Checking distribution - Summary descriptive statistics\n",
    "df.no_of_votes.describe()"
   ]
  },
  {
   "cell_type": "code",
   "execution_count": 27,
   "id": "f19b32fd-ed07-428e-bc88-0e1348def8df",
   "metadata": {},
   "outputs": [
    {
     "data": {
      "text/plain": [
       "<Axes: xlabel='no_of_votes', ylabel='Count'>"
      ]
     },
     "execution_count": 27,
     "metadata": {},
     "output_type": "execute_result"
    },
    {
     "data": {
      "image/png": "[encoded data removed]",
      "text/plain": [
       "<Figure size 640x480 with 1 Axes>"
      ]
     },
     "metadata": {},
     "output_type": "display_data"
    }
   ],
   "source": [
    "# Checking distribution - Histogram\n",
    "\n",
    "sns.histplot(df.no_of_votes)\n",
    "\n",
    "# 'no_of_votes' is heavily right-skewed"
   ]
  },
  {
   "cell_type": "code",
   "execution_count": 28,
   "id": "01dbd09a-4644-4253-b01d-088683a4f67f",
   "metadata": {},
   "outputs": [
    {
     "data": {
      "text/plain": [
       "<Axes: xlabel='log_votes', ylabel='Count'>"
      ]
     },
     "execution_count": 28,
     "metadata": {},
     "output_type": "execute_result"
    },
    {
     "data": {
      "image/png": "[encoded data removed]",
      "text/plain": [
       "<Figure size 640x480 with 1 Axes>"
      ]
     },
     "metadata": {},
     "output_type": "display_data"
    }
   ],
   "source": [
    "# Data Processing - Skewed variables \n",
    "# Applying log1p to compress the scale and make the distribution closer to normal\n",
    "\n",
    "# Engineered Column - 'log_votes'\n",
    "df['log_votes'] = np.log1p(df['no_of_votes'])\n",
    "\n",
    "# Checking the distribution \n",
    "sns.histplot(df.log_votes)\n",
    "\n",
    "# Outliers were kept"
   ]
  },
  {
   "cell_type": "markdown",
   "id": "adeb8e26-3792-4401-b742-757b2b2515eb",
   "metadata": {},
   "source": [
    "##### `gross` and `log_gross`"
   ]
  },
  {
   "cell_type": "code",
   "execution_count": 29,
   "id": "70be3508-5017-4905-959d-48b59e4d27c0",
   "metadata": {},
   "outputs": [],
   "source": [
    "# Data Processing - Convert Data types\n",
    "\n",
    "# Gross: remove commas/dollar signs, convert to numeric\n",
    "df['gross'] = (\n",
    "    df['gross']\n",
    "    .astype(str)\n",
    "    .str.replace(\",\", \"\")\n",
    "    .str.replace(\"$\", \"\")\n",
    "    .astype(float)\n",
    ")"
   ]
  },
  {
   "cell_type": "code",
   "execution_count": 30,
   "id": "f911d427-664d-42d9-96cd-90b53d7f9b6e",
   "metadata": {},
   "outputs": [
    {
     "name": "stdout",
     "output_type": "stream",
     "text": [
      "0\n"
     ]
    }
   ],
   "source": [
    "# Data processing - NaN values\n",
    "# 169 NaN values\n",
    "# Since it's a numeric column, fill with the median\n",
    "\n",
    "# Filling NaN values\n",
    "df['gross'] = df['gross'].fillna(df['gross'].median())\n",
    "\n",
    "# Checking\n",
    "print(df.gross.isna().sum())"
   ]
  },
  {
   "cell_type": "code",
   "execution_count": 31,
   "id": "89f22632-5ef5-4e2e-a0c4-187769f6c8fe",
   "metadata": {},
   "outputs": [
    {
     "data": {
      "text/plain": [
       "count    9.990000e+02\n",
       "mean     6.053338e+07\n",
       "std      1.014694e+08\n",
       "min      1.305000e+03\n",
       "25%      5.011838e+06\n",
       "50%      2.345744e+07\n",
       "75%      6.157656e+07\n",
       "max      9.366622e+08\n",
       "Name: gross, dtype: float64"
      ]
     },
     "execution_count": 31,
     "metadata": {},
     "output_type": "execute_result"
    }
   ],
   "source": [
    "# Checking distribution - Summary descriptive statistics\n",
    "df.gross.describe()"
   ]
  },
  {
   "cell_type": "code",
   "execution_count": 32,
   "id": "3ff6ed37-3276-47e6-8f4e-40298f10b7d6",
   "metadata": {},
   "outputs": [
    {
     "data": {
      "text/plain": [
       "<Axes: xlabel='gross', ylabel='Count'>"
      ]
     },
     "execution_count": 32,
     "metadata": {},
     "output_type": "execute_result"
    },
    {
     "data": {
      "image/png": "[encoded data removed]",
      "text/plain": [
       "<Figure size 640x480 with 1 Axes>"
      ]
     },
     "metadata": {},
     "output_type": "display_data"
    }
   ],
   "source": [
    "# Checking distribution - Histogram\n",
    "\n",
    "sns.histplot(df.gross)\n",
    "\n",
    "# 'gross' is heavily right-skewed"
   ]
  },
  {
   "cell_type": "code",
   "execution_count": 33,
   "id": "e0cc1536-d7b0-457e-86d3-61833e5ba8c2",
   "metadata": {},
   "outputs": [
    {
     "data": {
      "text/plain": [
       "<Axes: xlabel='log_gross', ylabel='Count'>"
      ]
     },
     "execution_count": 33,
     "metadata": {},
     "output_type": "execute_result"
    },
    {
     "data": {
      "image/png": "[encoded data removed]",
      "text/plain": [
       "<Figure size 640x480 with 1 Axes>"
      ]
     },
     "metadata": {},
     "output_type": "display_data"
    }
   ],
   "source": [
    "# Data Processing - Skewed variables \n",
    "# Applying log1p to compress the scale and make the distribution closer to normal\n",
    "\n",
    "# Engineered Column - 'log_gross'\n",
    "df['log_gross'] = np.log1p(df['gross'])\n",
    "\n",
    "# Checking the distribution \n",
    "sns.histplot(df.log_gross)\n",
    "\n",
    "# Outliers were kept"
   ]
  },
  {
   "cell_type": "markdown",
   "id": "8baf48e3-3902-4d12-8997-72c167b3f2aa",
   "metadata": {},
   "source": [
    "#### 5. Final checks"
   ]
  },
  {
   "cell_type": "code",
   "execution_count": 34,
   "id": "7528acee-19fd-4c37-b318-c9dc5da0f7fd",
   "metadata": {},
   "outputs": [
    {
     "name": "stdout",
     "output_type": "stream",
     "text": [
      "0\n"
     ]
    }
   ],
   "source": [
    "# Final checking - NaN values\n",
    "print(df.isna().sum().sum())"
   ]
  },
  {
   "cell_type": "code",
   "execution_count": 35,
   "id": "ecf0b223-b502-4899-aa91-2e2df5a2e5de",
   "metadata": {},
   "outputs": [
    {
     "name": "stdout",
     "output_type": "stream",
     "text": [
      "<class 'pandas.core.frame.DataFrame'>\n",
      "RangeIndex: 999 entries, 0 to 998\n",
      "Data columns (total 20 columns):\n",
      " #   Column         Non-Null Count  Dtype  \n",
      "---  ------         --------------  -----  \n",
      " 0   unnamed:_0     999 non-null    int64  \n",
      " 1   series_title   999 non-null    object \n",
      " 2   released_year  999 non-null    int64  \n",
      " 3   certificate    999 non-null    object \n",
      " 4   runtime        999 non-null    float64\n",
      " 5   genre          999 non-null    object \n",
      " 6   imdb_rating    999 non-null    float64\n",
      " 7   overview       999 non-null    object \n",
      " 8   meta_score     999 non-null    float64\n",
      " 9   director       999 non-null    object \n",
      " 10  star1          999 non-null    object \n",
      " 11  star2          999 non-null    object \n",
      " 12  star3          999 non-null    object \n",
      " 13  star4          999 non-null    object \n",
      " 14  no_of_votes    999 non-null    int64  \n",
      " 15  gross          999 non-null    float64\n",
      " 16  main_genre     999 non-null    object \n",
      " 17  overview_len   999 non-null    int64  \n",
      " 18  log_votes      999 non-null    float64\n",
      " 19  log_gross      999 non-null    float64\n",
      "dtypes: float64(6), int64(4), object(10)\n",
      "memory usage: 156.2+ KB\n",
      "None\n"
     ]
    }
   ],
   "source": [
    "# Final checking - Column names and its Data types\n",
    "print(df.info())"
   ]
  },
  {
   "cell_type": "code",
   "execution_count": 36,
   "id": "1cd5e6ea-3e11-49a2-82e9-cfcd50ffa024",
   "metadata": {},
   "outputs": [
    {
     "data": {
      "text/html": [
       "<div>\n",
       "<style scoped>\n",
       "    .dataframe tbody tr th:only-of-type {\n",
       "        vertical-align: middle;\n",
       "    }\n",
       "\n",
       "    .dataframe tbody tr th {\n",
       "        vertical-align: top;\n",
       "    }\n",
       "\n",
       "    .dataframe thead th {\n",
       "        text-align: right;\n",
       "    }\n",
       "</style>\n",
       "<table border=\"1\" class=\"dataframe\">\n",
       "  <thead>\n",
       "    <tr style=\"text-align: right;\">\n",
       "      <th></th>\n",
       "      <th>unnamed:_0</th>\n",
       "      <th>series_title</th>\n",
       "      <th>released_year</th>\n",
       "      <th>certificate</th>\n",
       "      <th>runtime</th>\n",
       "      <th>genre</th>\n",
       "      <th>imdb_rating</th>\n",
       "      <th>overview</th>\n",
       "      <th>meta_score</th>\n",
       "      <th>director</th>\n",
       "      <th>star1</th>\n",
       "      <th>star2</th>\n",
       "      <th>star3</th>\n",
       "      <th>star4</th>\n",
       "      <th>no_of_votes</th>\n",
       "      <th>gross</th>\n",
       "      <th>main_genre</th>\n",
       "      <th>overview_len</th>\n",
       "      <th>log_votes</th>\n",
       "      <th>log_gross</th>\n",
       "    </tr>\n",
       "  </thead>\n",
       "  <tbody>\n",
       "    <tr>\n",
       "      <th>0</th>\n",
       "      <td>1</td>\n",
       "      <td>The Godfather</td>\n",
       "      <td>1972</td>\n",
       "      <td>R</td>\n",
       "      <td>175.0</td>\n",
       "      <td>Crime, Drama</td>\n",
       "      <td>9.2</td>\n",
       "      <td>An organized crime dynasty's aging patriarch t...</td>\n",
       "      <td>100.0</td>\n",
       "      <td>Francis Ford Coppola</td>\n",
       "      <td>Marlon Brando</td>\n",
       "      <td>Al Pacino</td>\n",
       "      <td>James Caan</td>\n",
       "      <td>Diane Keaton</td>\n",
       "      <td>1620367</td>\n",
       "      <td>134966411.0</td>\n",
       "      <td>Crime</td>\n",
       "      <td>16</td>\n",
       "      <td>14.298164</td>\n",
       "      <td>18.720537</td>\n",
       "    </tr>\n",
       "    <tr>\n",
       "      <th>1</th>\n",
       "      <td>2</td>\n",
       "      <td>The Dark Knight</td>\n",
       "      <td>2008</td>\n",
       "      <td>PG</td>\n",
       "      <td>152.0</td>\n",
       "      <td>Action, Crime, Drama</td>\n",
       "      <td>9.0</td>\n",
       "      <td>When the menace known as the Joker wreaks havo...</td>\n",
       "      <td>84.0</td>\n",
       "      <td>Christopher Nolan</td>\n",
       "      <td>Christian Bale</td>\n",
       "      <td>Heath Ledger</td>\n",
       "      <td>Aaron Eckhart</td>\n",
       "      <td>Michael Caine</td>\n",
       "      <td>2303232</td>\n",
       "      <td>534858444.0</td>\n",
       "      <td>Action</td>\n",
       "      <td>33</td>\n",
       "      <td>14.649824</td>\n",
       "      <td>20.097513</td>\n",
       "    </tr>\n",
       "    <tr>\n",
       "      <th>2</th>\n",
       "      <td>3</td>\n",
       "      <td>The Godfather: Part II</td>\n",
       "      <td>1974</td>\n",
       "      <td>R</td>\n",
       "      <td>202.0</td>\n",
       "      <td>Crime, Drama</td>\n",
       "      <td>9.0</td>\n",
       "      <td>The early life and career of Vito Corleone in ...</td>\n",
       "      <td>90.0</td>\n",
       "      <td>Francis Ford Coppola</td>\n",
       "      <td>Al Pacino</td>\n",
       "      <td>Robert De Niro</td>\n",
       "      <td>Robert Duvall</td>\n",
       "      <td>Diane Keaton</td>\n",
       "      <td>1129952</td>\n",
       "      <td>57300000.0</td>\n",
       "      <td>Crime</td>\n",
       "      <td>29</td>\n",
       "      <td>13.937687</td>\n",
       "      <td>17.863811</td>\n",
       "    </tr>\n",
       "    <tr>\n",
       "      <th>3</th>\n",
       "      <td>4</td>\n",
       "      <td>12 Angry Men</td>\n",
       "      <td>1957</td>\n",
       "      <td>G</td>\n",
       "      <td>96.0</td>\n",
       "      <td>Crime, Drama</td>\n",
       "      <td>9.0</td>\n",
       "      <td>A jury holdout attempts to prevent a miscarria...</td>\n",
       "      <td>96.0</td>\n",
       "      <td>Sidney Lumet</td>\n",
       "      <td>Henry Fonda</td>\n",
       "      <td>Lee J. Cobb</td>\n",
       "      <td>Martin Balsam</td>\n",
       "      <td>John Fiedler</td>\n",
       "      <td>689845</td>\n",
       "      <td>4360000.0</td>\n",
       "      <td>Crime</td>\n",
       "      <td>18</td>\n",
       "      <td>13.444224</td>\n",
       "      <td>15.287983</td>\n",
       "    </tr>\n",
       "    <tr>\n",
       "      <th>4</th>\n",
       "      <td>5</td>\n",
       "      <td>The Lord of the Rings: The Return of the King</td>\n",
       "      <td>2003</td>\n",
       "      <td>G</td>\n",
       "      <td>201.0</td>\n",
       "      <td>Action, Adventure, Drama</td>\n",
       "      <td>8.9</td>\n",
       "      <td>Gandalf and Aragorn lead the World of Men agai...</td>\n",
       "      <td>94.0</td>\n",
       "      <td>Peter Jackson</td>\n",
       "      <td>Elijah Wood</td>\n",
       "      <td>Viggo Mortensen</td>\n",
       "      <td>Ian McKellen</td>\n",
       "      <td>Orlando Bloom</td>\n",
       "      <td>1642758</td>\n",
       "      <td>377845905.0</td>\n",
       "      <td>Action</td>\n",
       "      <td>28</td>\n",
       "      <td>14.311888</td>\n",
       "      <td>19.749997</td>\n",
       "    </tr>\n",
       "  </tbody>\n",
       "</table>\n",
       "</div>"
      ],
      "text/plain": [
       "   unnamed:_0                                   series_title  released_year  \\\n",
       "0           1                                  The Godfather           1972   \n",
       "1           2                                The Dark Knight           2008   \n",
       "2           3                         The Godfather: Part II           1974   \n",
       "3           4                                   12 Angry Men           1957   \n",
       "4           5  The Lord of the Rings: The Return of the King           2003   \n",
       "\n",
       "  certificate  runtime                     genre  imdb_rating  \\\n",
       "0           R    175.0              Crime, Drama          9.2   \n",
       "1          PG    152.0      Action, Crime, Drama          9.0   \n",
       "2           R    202.0              Crime, Drama          9.0   \n",
       "3           G     96.0              Crime, Drama          9.0   \n",
       "4           G    201.0  Action, Adventure, Drama          8.9   \n",
       "\n",
       "                                            overview  meta_score  \\\n",
       "0  An organized crime dynasty's aging patriarch t...       100.0   \n",
       "1  When the menace known as the Joker wreaks havo...        84.0   \n",
       "2  The early life and career of Vito Corleone in ...        90.0   \n",
       "3  A jury holdout attempts to prevent a miscarria...        96.0   \n",
       "4  Gandalf and Aragorn lead the World of Men agai...        94.0   \n",
       "\n",
       "               director           star1            star2          star3  \\\n",
       "0  Francis Ford Coppola   Marlon Brando        Al Pacino     James Caan   \n",
       "1     Christopher Nolan  Christian Bale     Heath Ledger  Aaron Eckhart   \n",
       "2  Francis Ford Coppola       Al Pacino   Robert De Niro  Robert Duvall   \n",
       "3          Sidney Lumet     Henry Fonda      Lee J. Cobb  Martin Balsam   \n",
       "4         Peter Jackson     Elijah Wood  Viggo Mortensen   Ian McKellen   \n",
       "\n",
       "           star4  no_of_votes        gross main_genre  overview_len  \\\n",
       "0   Diane Keaton      1620367  134966411.0      Crime            16   \n",
       "1  Michael Caine      2303232  534858444.0     Action            33   \n",
       "2   Diane Keaton      1129952   57300000.0      Crime            29   \n",
       "3   John Fiedler       689845    4360000.0      Crime            18   \n",
       "4  Orlando Bloom      1642758  377845905.0     Action            28   \n",
       "\n",
       "   log_votes  log_gross  \n",
       "0  14.298164  18.720537  \n",
       "1  14.649824  20.097513  \n",
       "2  13.937687  17.863811  \n",
       "3  13.444224  15.287983  \n",
       "4  14.311888  19.749997  "
      ]
     },
     "execution_count": 36,
     "metadata": {},
     "output_type": "execute_result"
    }
   ],
   "source": [
    "# Final checking - Head\n",
    "df.head()"
   ]
  },
  {
   "cell_type": "code",
   "execution_count": 37,
   "id": "53bc07e9-b05c-43fe-bbbd-8529c6b4c86f",
   "metadata": {},
   "outputs": [
    {
     "data": {
      "text/plain": [
       "(999, 20)"
      ]
     },
     "execution_count": 37,
     "metadata": {},
     "output_type": "execute_result"
    }
   ],
   "source": [
    "# Final checking - Shape\n",
    "df.shape"
   ]
  },
  {
   "cell_type": "markdown",
   "id": "dad04747-a5fa-479b-b242-30062f809202",
   "metadata": {},
   "source": [
    "#### 6. Data augmentation \n",
    "Generating the `imdb_tmdb` dataset."
   ]
  },
  {
   "cell_type": "markdown",
   "id": "ef616f12-019b-4ca0-8b66-09950371dc4e",
   "metadata": {},
   "source": [
    "**OBS.:** The code below is not meant to be executed. It is included only to illustrate the step of generating the enriched dataset by fetching budget and revenue features from TMDB and merging them into the existing dataset. The resulting dataset was saved as `imdb_tmdb.csv` and is provided in the project files."
   ]
  },
  {
   "cell_type": "code",
   "execution_count": 38,
   "id": "3723d1de-a9d1-4a53-9217-6c50ca82bdd3",
   "metadata": {},
   "outputs": [],
   "source": [
    "# # Fetching budgets/revenues from The Movie Database (TMDB)\n",
    "\n",
    "# TMDB_API_KEY = \"TMDB_KEY\"\"\n",
    "\n",
    "# def fetch_tmdb_info(title, year):\n",
    "#     \"\"\"\n",
    "#     Search TMDB by title + year.\n",
    "#     Returns dict with budget, revenue, runtime, etc.\n",
    "#     \"\"\"\n",
    "#     url = \"https://api.themoviedb.org/3/search/movie\"\n",
    "#     params = {\n",
    "#         \"api_key\": TMDB_API_KEY,\n",
    "#         \"query\": title,\n",
    "#         \"year\": year\n",
    "#     }\n",
    "#     resp = requests.get(url, params=params)\n",
    "#     if resp.status_code == 200:\n",
    "#         data = resp.json()\n",
    "#         results = data.get(\"results\", [])\n",
    "#         if results:\n",
    "#             # take the top result\n",
    "#             movie_id = results[0][\"id\"]\n",
    "#             # fetch detailed info for that movie\n",
    "#             detail_url = f\"https://api.themoviedb.org/3/movie/{movie_id}\"\n",
    "#             detail_params = {\"api_key\": TMDB_API_KEY}\n",
    "#             detail_resp = requests.get(detail_url, params=detail_params)\n",
    "#             if detail_resp.status_code == 200:\n",
    "#                 return detail_resp.json()\n",
    "#     return None\n",
    "\n",
    "# # Collect budgets & revenues\n",
    "# budgets = []\n",
    "# revenues = []\n",
    "\n",
    "# for idx, row in tqdm(df.iterrows(), total=df.shape[0]):\n",
    "#     rec = fetch_tmdb_info(row[\"series_title\"], row[\"released_year\"])\n",
    "#     if rec:\n",
    "#         budgets.append(rec.get(\"budget\", None))\n",
    "#         revenues.append(rec.get(\"revenue\", None))\n",
    "#     else:\n",
    "#         budgets.append(None)\n",
    "#         revenues.append(None)\n",
    "\n",
    "# df[\"budget\"] = budgets\n",
    "# df[\"revenue\"] = revenues\n",
    "\n",
    "# # Transformations\n",
    "# df[\"log_budget\"] = df[\"budget\"].apply(\n",
    "#     lambda x: np.log1p(x) if pd.notnull(x) and x > 0 else None\n",
    "# )\n",
    "# df[\"log_revenue\"] = df[\"revenue\"].apply(\n",
    "#     lambda x: np.log1p(x) if pd.notnull(x) and x > 0 else None\n",
    "# )"
   ]
  },
  {
   "cell_type": "code",
   "execution_count": 39,
   "id": "cc7ca7c7-befa-46ab-b74e-7834456b25a3",
   "metadata": {},
   "outputs": [],
   "source": [
    "# Save \n",
    "\n",
    "# df.to_csv(\"imdb_tmdb.csv\", index=False)"
   ]
  },
  {
   "cell_type": "markdown",
   "id": "09385982-c02d-4565-b8eb-b6a76a02fd6c",
   "metadata": {},
   "source": [
    "#### 7. Loading the `imdb_tmdb` dataset"
   ]
  },
  {
   "cell_type": "code",
   "execution_count": 40,
   "id": "a35d37a3-5dd3-420e-83ad-bb9cf6cc23b4",
   "metadata": {},
   "outputs": [],
   "source": [
    "df = pd.read_csv(\"imdb_tmdb.csv\")"
   ]
  },
  {
   "cell_type": "markdown",
   "id": "6dcabc7f-aae8-42f9-97d5-10e8e0ccd703",
   "metadata": {},
   "source": [
    "#### 8. Checking and processing new add columns `budget`, `log_budget`, `revenue`, `log_revenue`"
   ]
  },
  {
   "cell_type": "code",
   "execution_count": 41,
   "id": "b91ddfa9-a08e-46c0-90fc-b5b4be885867",
   "metadata": {},
   "outputs": [
    {
     "name": "stdout",
     "output_type": "stream",
     "text": [
      "<class 'pandas.core.frame.DataFrame'>\n",
      "RangeIndex: 999 entries, 0 to 998\n",
      "Data columns (total 4 columns):\n",
      " #   Column       Non-Null Count  Dtype  \n",
      "---  ------       --------------  -----  \n",
      " 0   budget       993 non-null    float64\n",
      " 1   revenue      993 non-null    float64\n",
      " 2   log_budget   843 non-null    float64\n",
      " 3   log_revenue  882 non-null    float64\n",
      "dtypes: float64(4)\n",
      "memory usage: 31.3 KB\n"
     ]
    }
   ],
   "source": [
    "# Checking - Column names and its Data types\n",
    "\n",
    "df[['budget', 'revenue', 'log_budget', 'log_revenue']].info()"
   ]
  },
  {
   "cell_type": "code",
   "execution_count": 42,
   "id": "97c0f11c-38c0-44a7-a247-dd18f6c428a4",
   "metadata": {},
   "outputs": [
    {
     "data": {
      "text/plain": [
       "budget           6\n",
       "revenue          6\n",
       "log_budget     156\n",
       "log_revenue    117\n",
       "dtype: int64"
      ]
     },
     "execution_count": 42,
     "metadata": {},
     "output_type": "execute_result"
    }
   ],
   "source": [
    "# Checking - NaN values\n",
    "\n",
    "df[['budget', 'revenue', 'log_budget', 'log_revenue']].isna().sum()"
   ]
  },
  {
   "cell_type": "code",
   "execution_count": 43,
   "id": "a4dea644-6874-4b42-b8a7-a1e778dde693",
   "metadata": {},
   "outputs": [
    {
     "data": {
      "text/plain": [
       "budget         0\n",
       "revenue        0\n",
       "log_budget     0\n",
       "log_revenue    0\n",
       "dtype: int64"
      ]
     },
     "execution_count": 43,
     "metadata": {},
     "output_type": "execute_result"
    }
   ],
   "source": [
    "# Data processing - NaN values\n",
    "# Since they are numeric columns, fill with the median\n",
    "\n",
    "# Filling NaN values\n",
    "cols = ['budget', 'revenue', 'log_budget', 'log_revenue']\n",
    "for col in cols:\n",
    "    df[col] = df[col].fillna(df[col].median())\n",
    "\n",
    "# Checking\n",
    "df[['budget', 'revenue', 'log_budget', 'log_revenue']].isna().sum()"
   ]
  },
  {
   "cell_type": "markdown",
   "id": "666466fa-45b4-4471-9b78-65d023568415",
   "metadata": {},
   "source": [
    "#### 9. Final checks"
   ]
  },
  {
   "cell_type": "code",
   "execution_count": 44,
   "id": "a43085b9-a4b2-473f-819a-22696f837a5f",
   "metadata": {},
   "outputs": [
    {
     "name": "stdout",
     "output_type": "stream",
     "text": [
      "0\n"
     ]
    }
   ],
   "source": [
    "# Final checking - NaN values\n",
    "print(df.isna().sum().sum())"
   ]
  },
  {
   "cell_type": "code",
   "execution_count": 45,
   "id": "664678b8-1362-46a0-bd8a-790178190705",
   "metadata": {},
   "outputs": [
    {
     "name": "stdout",
     "output_type": "stream",
     "text": [
      "<class 'pandas.core.frame.DataFrame'>\n",
      "RangeIndex: 999 entries, 0 to 998\n",
      "Data columns (total 24 columns):\n",
      " #   Column         Non-Null Count  Dtype  \n",
      "---  ------         --------------  -----  \n",
      " 0   unnamed:_0     999 non-null    int64  \n",
      " 1   series_title   999 non-null    object \n",
      " 2   released_year  999 non-null    int64  \n",
      " 3   certificate    999 non-null    object \n",
      " 4   runtime        999 non-null    float64\n",
      " 5   genre          999 non-null    object \n",
      " 6   imdb_rating    999 non-null    float64\n",
      " 7   overview       999 non-null    object \n",
      " 8   meta_score     999 non-null    float64\n",
      " 9   director       999 non-null    object \n",
      " 10  star1          999 non-null    object \n",
      " 11  star2          999 non-null    object \n",
      " 12  star3          999 non-null    object \n",
      " 13  star4          999 non-null    object \n",
      " 14  no_of_votes    999 non-null    int64  \n",
      " 15  gross          999 non-null    float64\n",
      " 16  main_genre     999 non-null    object \n",
      " 17  overview_len   999 non-null    int64  \n",
      " 18  log_votes      999 non-null    float64\n",
      " 19  budget         999 non-null    float64\n",
      " 20  revenue        999 non-null    float64\n",
      " 21  log_budget     999 non-null    float64\n",
      " 22  log_revenue    999 non-null    float64\n",
      " 23  log_gross      999 non-null    float64\n",
      "dtypes: float64(10), int64(4), object(10)\n",
      "memory usage: 187.4+ KB\n",
      "None\n"
     ]
    }
   ],
   "source": [
    "# Final checking - Column names and its Data types\n",
    "print(df.info())"
   ]
  },
  {
   "cell_type": "code",
   "execution_count": 46,
   "id": "195624d9-a8b2-4a35-86ec-c7836f0e655b",
   "metadata": {},
   "outputs": [
    {
     "data": {
      "text/plain": [
       "(999, 24)"
      ]
     },
     "execution_count": 46,
     "metadata": {},
     "output_type": "execute_result"
    }
   ],
   "source": [
    "# Final checking - Shape\n",
    "df.shape"
   ]
  },
  {
   "cell_type": "markdown",
   "id": "be0e84fb-7112-4077-a3bf-b7ba582c4238",
   "metadata": {},
   "source": [
    "## 2. Exploratory data analysis (EDA)"
   ]
  },
  {
   "cell_type": "markdown",
   "id": "c5afbddb-6d8e-4538-bc81-6a1c8137809b",
   "metadata": {},
   "source": [
    "#### Recommended movie for someone unknown"
   ]
  },
  {
   "cell_type": "markdown",
   "id": "94f63edb-1ddc-4dc2-ae15-430c2fa57484",
   "metadata": {},
   "source": [
    "Reasoning:\n",
    "\n",
    "Given the lack of knowledge about the person's profile (such as age) and preferences (genre, director, stars, etc.), the best recommendation should balance quality, popularity, financial success, and critical consensus (less prone to popularity bias).\n",
    "\n",
    "Therefore, the variables chosen to combine are the following:\n",
    "\n",
    "- `imdb_rating`: audience perception of quality\n",
    "- `meta_score`: critical consensus\n",
    "- `log_votes`: popularity validation\n",
    "- `log_revenue`: commercial success\n",
    "\n",
    "\n",
    "\n",
    "**INSIGHTS:**\n",
    "\n",
    "The recommended movie for someone unknown is:\n",
    "\n",
    "1. ***The Godfather***, released in 1972, 175.0 min., directed by Francis Ford Coppola.\n",
    "\n",
    "Extra insight! The top 10 most recommended movies for someone unknown (without the first):\n",
    "\n",
    "2. *The Dark Knight*, released in 2008, 152.0 min., directed by Christopher Nolan.\n",
    "3. *The Lord of the Rings*: The Return of the King, released in 2003, 201.0 min., directed by Peter Jackson.\n",
    "5. *Pulp Fiction*, released in 1994, 154.0 min., directed by Quentin Tarantino.\n",
    "6. *The Lord of the Rings: The Fellowship of the Ring*, released in 2001, 178.0 min., directed by Peter Jackson.\n",
    "7. *Schindler's List*, released in 1993, 195.0 min., directed by Steven Spielberg.\n",
    "8. *The Godfather: Part II*, released in 1974, 202.0 min., directed by Francis Ford Coppola.\n",
    "9. *Forrest Gump*, released in 1994, 142.0 min., directed by Robert Zemeckis.\n",
    "10. *Inception*, released in 2010, 148.0 min., directed by Christopher Nolan.\n",
    "11. *The Lord of the Rings: The Two Towers*, released in 2002, 179.0 min., directed by Peter Jackson."
   ]
  },
  {
   "cell_type": "code",
   "execution_count": 47,
   "id": "ac62b3b8-9094-4f12-a3f8-accb5ab33605",
   "metadata": {},
   "outputs": [],
   "source": [
    "# Normalizing \n",
    "\n",
    "# Each chosen variable has a different scale (imdb_rating ranges 1–10, while log_votes can go up to ~15)\n",
    "# To compare fairly, normalize everything into 0–1 range and \n",
    "# create new columns for each variable with the scaled values \n",
    "\n",
    "# Legend:\n",
    "# i_s = scaled IMDb\n",
    "# m_s = scaled meta score\n",
    "# v_s = scaled votes\n",
    "# r_s = scaled revenue\n",
    "\n",
    "scaler = MinMaxScaler()\n",
    "\n",
    "df[['i_s','m_s','v_s','r_s']] = scaler.fit_transform(\n",
    "    df[['imdb_rating','meta_score','log_votes','log_revenue']].fillna(0)\n",
    ")"
   ]
  },
  {
   "cell_type": "code",
   "execution_count": 48,
   "id": "f5779819-eb52-47b3-bdee-67574d77f055",
   "metadata": {},
   "outputs": [],
   "source": [
    "# Weighted Composite Score\n",
    "\n",
    "# Weights were adjusted and tested across different compositions until a balanced choice was found:\n",
    "# i_s = 0.35\n",
    "# m_s = 0.20\n",
    "# v_s = 0.25\n",
    "# r_s = 0.20\n",
    "\n",
    "alpha, beta, gamma, delta = 0.35, 0.20, 0.25, 0.20\n",
    "df['composite'] = (\n",
    "    alpha*df['i_s'] +\n",
    "    beta*df['m_s'] +\n",
    "    gamma*df['v_s'] +\n",
    "    delta*df['r_s']\n",
    ")"
   ]
  },
  {
   "cell_type": "code",
   "execution_count": 49,
   "id": "21768654-e611-4b63-8b17-53e95d92e816",
   "metadata": {},
   "outputs": [],
   "source": [
    "# Creating a top 10 recommendation \n",
    "top_recommendations = df.sort_values('composite', ascending=False).head(10)"
   ]
  },
  {
   "cell_type": "code",
   "execution_count": 50,
   "id": "c9fe1c00-d161-4312-b625-72050782d311",
   "metadata": {},
   "outputs": [
    {
     "name": "stdout",
     "output_type": "stream",
     "text": [
      "The recommended movie for someone unknown is:\n",
      "The Godfather, released in 1972, 175.0 min., directed by Francis Ford Coppola.\n"
     ]
    }
   ],
   "source": [
    "# Insights\n",
    "\n",
    "# Top 1 recommendation \n",
    "top1_title = top_recommendations.series_title[0]\n",
    "top1_year = top_recommendations.released_year[0]\n",
    "top1_runtime = top_recommendations.runtime[0]\n",
    "top1_director = top_recommendations.director[0]\n",
    "\n",
    "print(f'The recommended movie for someone unknown is:\\n\\\n",
    "{top1_title}, released in {top1_year}, {top1_runtime} min., directed by {top1_director}.')"
   ]
  },
  {
   "cell_type": "code",
   "execution_count": 51,
   "id": "72e22253-44ee-4441-b12e-f24480197548",
   "metadata": {},
   "outputs": [
    {
     "name": "stdout",
     "output_type": "stream",
     "text": [
      "1. The Godfather, released in 1972, 175.0 min., directed by Francis Ford Coppola.\n",
      "2. The Dark Knight, released in 2008, 152.0 min., directed by Christopher Nolan.\n",
      "3. The Lord of the Rings: The Return of the King, released in 2003, 201.0 min., directed by Peter Jackson.\n",
      "4. Pulp Fiction, released in 1994, 154.0 min., directed by Quentin Tarantino.\n",
      "5. The Lord of the Rings: The Fellowship of the Ring, released in 2001, 178.0 min., directed by Peter Jackson.\n",
      "6. Schindler's List, released in 1993, 195.0 min., directed by Steven Spielberg.\n",
      "7. The Godfather: Part II, released in 1974, 202.0 min., directed by Francis Ford Coppola.\n",
      "8. Forrest Gump, released in 1994, 142.0 min., directed by Robert Zemeckis.\n",
      "9. Inception, released in 2010, 148.0 min., directed by Christopher Nolan.\n",
      "10. The Lord of the Rings: The Two Towers, released in 2002, 179.0 min., directed by Peter Jackson.\n"
     ]
    }
   ],
   "source": [
    "# Insights\n",
    "\n",
    "# Top 10 recommendation\n",
    "for i in range(len(top_recommendations.head(10))):\n",
    "    row = top_recommendations.iloc[i]\n",
    "    top = i + 1\n",
    "    title = row.series_title\n",
    "    year = row.released_year\n",
    "    runtime = row.runtime\n",
    "    director = row.director\n",
    "    print(f'{top}. {title}, released in {year}, {runtime} min., directed by {director}.')"
   ]
  },
  {
   "cell_type": "markdown",
   "id": "b1a90446-a061-43bb-91a6-f9fc1cac107b",
   "metadata": {},
   "source": [
    "#### Main factors related to a film's high grossing expectations"
   ]
  },
  {
   "cell_type": "markdown",
   "id": "ac3f75f4-8ca6-466c-be8c-75347b381a14",
   "metadata": {},
   "source": [
    "Reasoning:\n",
    "- Compute pairwise associations (Spearman correlation) between `log_gross` and numeric features\n",
    "- Compare distributions of `log_gross` across categorical features\n",
    "\n",
    "**INSIGHTS:**\n",
    "- `gross` and `no_of_votes` correlate strongly positive (ρ ≈ 0.6): movies with high gross reach a lot of people, and get more number of votes\n",
    "- `gross` and `budget` correlate strongly positive (ρ ≈ 0.6): higher budgets allow higher production value & marketing spend, enabling high gross, although doesn’t guarantee it\n",
    "- `gross` and `revenue` correlate even strongly positive (ρ ≈ 0.8): since gross is a subset of revenue\n",
    "  \n",
    "- `main_genre` is a related factor: Horror, Action, Family, Biography, and Adventure tend to have the highest gross\n",
    "- `certificate`: PG (Parental Guidance) movies tend to have the highest gross\n",
    "- `director`: Gareth Edwards, Anthony Russo, Josh Cooley, Roger Allers, and Tim Miller are the top 5 directors making high-grossing movies"
   ]
  },
  {
   "cell_type": "code",
   "execution_count": 52,
   "id": "73e6f598-597a-4b2c-a6c6-f652883bf9e6",
   "metadata": {},
   "outputs": [
    {
     "data": {
      "image/png": "[encoded data removed]",
      "text/plain": [
       "<Figure size 800x600 with 2 Axes>"
      ]
     },
     "metadata": {},
     "output_type": "display_data"
    }
   ],
   "source": [
    "# Spearman correlation\n",
    "\n",
    "num_cols = ['log_gross','imdb_rating','meta_score','runtime','log_votes','released_year', 'log_budget', 'log_revenue']\n",
    "corr = df[num_cols].corr(method='spearman')\n",
    "plt.figure(figsize=(8,6))\n",
    "sns.heatmap(corr, annot=True, fmt=\".2f\", cmap='coolwarm')\n",
    "plt.title(\"Correlation Matrix (Spearman)\")\n",
    "plt.show()\n",
    "\n",
    "# (+)Positive strong correlations:\n",
    "# 'gross' and 'no_of_votes' correlate strongly positive (ρ ≈ 0.6):\n",
    "# movies with high gross reach a lot of people, and get more number of votes.\n",
    "\n",
    "# 'gross' and 'log_budget' correlate strongly positive (ρ ≈ 0.6):\n",
    "# higher budgets allow higher production value & marketing spend, enabling high gross, although doesn’t guarantee it\n",
    "\n",
    "# 'gross' and 'log_revenue' correlate strongly positive (ρ ≈ 0.8):\n",
    "# since gross is a subset of revenue\n",
    "\n",
    "# (+)Positive weak correlations:\n",
    "# 'runtime' and 'released_year'\n",
    "\n",
    "# (-)Negative correlations:\n",
    "# No significant negative correlation detected\n",
    "\n",
    "# (0)Close to no correlation: \n",
    "# 'imdb_rating' and 'meta_score'"
   ]
  },
  {
   "cell_type": "code",
   "execution_count": 53,
   "id": "c5a1297e-3d3d-46ea-a69f-5bd89906e9fa",
   "metadata": {},
   "outputs": [
    {
     "name": "stdout",
     "output_type": "stream",
     "text": [
      "main_genre\n",
      "Horror       17.665658\n",
      "Action       17.602764\n",
      "Family       17.546458\n",
      "Biography    17.420722\n",
      "Adventure    17.271362\n",
      "Animation    16.970698\n",
      "Fantasy      16.970698\n",
      "Mystery      16.970698\n",
      "Drama        16.911965\n",
      "Comedy       16.813496\n",
      "Thriller     16.680607\n",
      "Crime        16.664306\n",
      "Western      16.073680\n",
      "Film-Noir    14.561279\n",
      "Name: log_gross, dtype: float64\n"
     ]
    }
   ],
   "source": [
    "# 'gross' by 'main_genre'\n",
    "# Ordering 'genres' acording to median 'gross' ranking\n",
    "\n",
    "genre_gross = (\n",
    "    df.groupby('main_genre')['log_gross']\n",
    "    .median()\n",
    "    .sort_values(ascending=False)\n",
    ")\n",
    "\n",
    "# By calculating the median 'log_gross' per 'main_genre', we see that:\n",
    "# Horror, Action, Family, Biography, and Adventure tend to have the highest gross\n",
    "# Animation, Fantasy, Mystery, Drama, Comedy tend to steady gross\n",
    "# Thriller, Crime, Western, and Film-Noir typically have the lowest gross\n",
    "\n",
    "# This shows that 'genre' can be a related factor, even when we account for outliers with the median\n",
    "print(genre_gross)"
   ]
  },
  {
   "cell_type": "code",
   "execution_count": 54,
   "id": "ef8374ee-b586-48f4-b6b9-de25589b2295",
   "metadata": {},
   "outputs": [
    {
     "data": {
      "image/png": "[encoded data removed]",
      "text/plain": [
       "<Figure size 1000x500 with 1 Axes>"
      ]
     },
     "metadata": {},
     "output_type": "display_data"
    }
   ],
   "source": [
    "# 'gross' by 'main_genre'\n",
    "# Visualizing \n",
    "\n",
    "plt.figure(figsize=(10,5))\n",
    "sns.barplot(x=genre_gross.index, y=genre_gross.values)\n",
    "plt.xticks(rotation=60)\n",
    "plt.title(\"Median Gross by Main Genre\")\n",
    "plt.show()"
   ]
  },
  {
   "cell_type": "code",
   "execution_count": 55,
   "id": "e536c140-2562-4bf3-810b-3cc5489345aa",
   "metadata": {},
   "outputs": [
    {
     "name": "stdout",
     "output_type": "stream",
     "text": [
      "certificate\n",
      "PG         17.182206\n",
      "G          16.970698\n",
      "R          16.970698\n",
      "PG-13      16.845316\n",
      "Unrated    12.611541\n",
      "Name: log_gross, dtype: float64\n"
     ]
    }
   ],
   "source": [
    "# 'gross' by 'certificate'\n",
    "# Ordering 'certificate' acording to median 'gross' ranking\n",
    "\n",
    "certificate_gross = (\n",
    "    df.groupby('certificate')['log_gross']\n",
    "    .median()\n",
    "    .sort_values(ascending=False)\n",
    ")\n",
    "print(certificate_gross)\n",
    "\n",
    "# PG (Parental Guidance Suggested) tend to have the highest gross"
   ]
  },
  {
   "cell_type": "code",
   "execution_count": 56,
   "id": "2f004a9f-5296-4e8c-ac88-9f61535a9b86",
   "metadata": {},
   "outputs": [
    {
     "data": {
      "image/png": "[encoded data removed]",
      "text/plain": [
       "<Figure size 700x500 with 1 Axes>"
      ]
     },
     "metadata": {},
     "output_type": "display_data"
    }
   ],
   "source": [
    "# 'gross' by 'certificate'\n",
    "# Visualizing\n",
    "\n",
    "plt.figure(figsize=(7,5))\n",
    "sns.boxplot(data=df, x='certificate', y='log_gross')\n",
    "plt.xticks(rotation=45)\n",
    "plt.title(\"Gross by Age Certificate\")\n",
    "plt.show()\n",
    "\n",
    "# Ouliters in 'R', 'PG', 'G'"
   ]
  },
  {
   "cell_type": "code",
   "execution_count": 57,
   "id": "652ba942-4495-4209-8b30-722fcccad4c1",
   "metadata": {},
   "outputs": [
    {
     "name": "stdout",
     "output_type": "stream",
     "text": [
      "director\n",
      "Gareth Edwards    20.092487\n",
      "Anthony Russo     20.081422\n",
      "Josh Cooley       19.888643\n",
      "Roger Allers      19.862371\n",
      "Tim Miller        19.710108\n",
      "Name: log_gross, dtype: float64\n"
     ]
    }
   ],
   "source": [
    "# Top 5 'directors' by median 'gross'\n",
    "\n",
    "top_directors = (\n",
    "    df.groupby('director')['log_gross']\n",
    "    .median()\n",
    "    .sort_values(ascending=False)\n",
    "    .head(5)\n",
    ")\n",
    "\n",
    "# Gareth Edwards, Anthony Russo, Josh Cooley, Roger Allers, Tim Miller are the top 5 directors making high-grossing movies\n",
    "print(top_directors)"
   ]
  },
  {
   "cell_type": "markdown",
   "id": "cc13f083-85c5-479d-b163-040bae2aa848",
   "metadata": {},
   "source": [
    "#### Insights gained from the Overview column"
   ]
  },
  {
   "cell_type": "markdown",
   "id": "4eaa7652-31f8-4070-9e00-3cf612de3f4d",
   "metadata": {},
   "source": [
    "Is it possible to infer the film's genre from the `overview` column?\n",
    "\n",
    "Reasoning:\n",
    "- Analyse the distribution of `main_genre`,\n",
    "- Run TF-IDF + Logistic Regression model to test whether the `main_genre` can be inferred from the `overview` column.\n",
    "\n",
    "**INSIGHTS**\n",
    "\n",
    "TF-IDF + logistic regression baseline is capturing “Drama vs not-Drama”, but not fine genre distinctions.\n",
    "\n",
    "That’s happens when:\n",
    "\n",
    "- Genre imbalance exists (Drama is by far the majority)\n",
    "- Many genres have too few training samples (e.g., Mystery support = 2)\n",
    "- Overviews may not be distinct enough with bag-of-words features alone\n",
    "\n",
    "With the current TF-IDF + logistic regression approach, the model is not able to reliably infer the film’s genre from the ‘overview’ column. Because ‘Drama’ is overrepresented in the dataset, the classifier defaults to predicting this genre, while underrepresented genres are almost never predicted. \n",
    "\n",
    "This indicates that the ***imbalance in the dataset*** and the ***generic nature of overviews*** limit the predictive power of this approach."
   ]
  },
  {
   "cell_type": "code",
   "execution_count": 58,
   "id": "6fe9e4f8-a332-4876-860f-e7b9f0a0c5c8",
   "metadata": {},
   "outputs": [
    {
     "data": {
      "image/png": "[encoded data removed]",
      "text/plain": [
       "<Figure size 1000x600 with 1 Axes>"
      ]
     },
     "metadata": {},
     "output_type": "display_data"
    },
    {
     "name": "stdout",
     "output_type": "stream",
     "text": [
      "main_genre\n",
      "Drama        28.83\n",
      "Action       17.22\n",
      "Comedy       15.52\n",
      "Crime        10.71\n",
      "Biography     8.81\n",
      "Animation     8.21\n",
      "Adventure     7.21\n",
      "Mystery       1.20\n",
      "Horror        1.10\n",
      "Western       0.40\n",
      "Film-Noir     0.30\n",
      "Fantasy       0.20\n",
      "Family        0.20\n",
      "Thriller      0.10\n",
      "Name: count, dtype: float64\n"
     ]
    }
   ],
   "source": [
    "# Distribution of 'main_genre'\n",
    "\n",
    "plt.figure(figsize=(10,6))\n",
    "genre_counts = df['main_genre'].value_counts()\n",
    "\n",
    "sns.barplot(\n",
    "    x=genre_counts.index,\n",
    "    y=genre_counts.values,\n",
    "    hue=genre_counts.index,\n",
    "    palette=\"viridis\",\n",
    "    legend=False\n",
    ")\n",
    "\n",
    "plt.xticks(rotation=45, ha='right')\n",
    "plt.ylabel(\"Number of Movies\")\n",
    "plt.xlabel(\"Main Genre\")\n",
    "plt.title(\"Distribution of main Genres in the imdb_tmdb dataset\")\n",
    "plt.show()\n",
    "\n",
    "# Also show percentages\n",
    "print((genre_counts / len(df) * 100).round(2))\n",
    "\n",
    "# Insights\n",
    "# 'main_genre' is heavily right-skewed\n",
    "# Drama dominates: accounting for nearly 29% of all movies\n",
    "# Other genres (Mistery, Horror, Western, Film-Noir, Fantasy, Family, Thriller) have very little representation."
   ]
  },
  {
   "cell_type": "code",
   "execution_count": 59,
   "id": "71a9a747-d545-4ca9-9fe6-ccbdfeaa0bbd",
   "metadata": {},
   "outputs": [
    {
     "name": "stdout",
     "output_type": "stream",
     "text": [
      "              precision    recall  f1-score   support\n",
      "\n",
      "      Action       0.35      0.23      0.27        31\n",
      "   Adventure       0.00      0.00      0.00        15\n",
      "   Animation       0.00      0.00      0.00        18\n",
      "   Biography       0.00      0.00      0.00        18\n",
      "      Comedy       0.29      0.07      0.11        28\n",
      "       Crime       1.00      0.04      0.08        23\n",
      "       Drama       0.36      0.98      0.52        62\n",
      "      Horror       0.00      0.00      0.00         3\n",
      "     Mystery       0.00      0.00      0.00         2\n",
      "\n",
      "    accuracy                           0.35       200\n",
      "   macro avg       0.22      0.15      0.11       200\n",
      "weighted avg       0.32      0.35      0.23       200\n",
      "\n"
     ]
    },
    {
     "name": "stderr",
     "output_type": "stream",
     "text": [
      "/Users/leticiazorzirama/opt/anaconda3/lib/python3.13/site-packages/sklearn/metrics/_classification.py:1565: UndefinedMetricWarning: Precision is ill-defined and being set to 0.0 in labels with no predicted samples. Use `zero_division` parameter to control this behavior.\n",
      "  _warn_prf(average, modifier, f\"{metric.capitalize()} is\", len(result))\n",
      "/Users/leticiazorzirama/opt/anaconda3/lib/python3.13/site-packages/sklearn/metrics/_classification.py:1565: UndefinedMetricWarning: Precision is ill-defined and being set to 0.0 in labels with no predicted samples. Use `zero_division` parameter to control this behavior.\n",
      "  _warn_prf(average, modifier, f\"{metric.capitalize()} is\", len(result))\n",
      "/Users/leticiazorzirama/opt/anaconda3/lib/python3.13/site-packages/sklearn/metrics/_classification.py:1565: UndefinedMetricWarning: Precision is ill-defined and being set to 0.0 in labels with no predicted samples. Use `zero_division` parameter to control this behavior.\n",
      "  _warn_prf(average, modifier, f\"{metric.capitalize()} is\", len(result))\n"
     ]
    }
   ],
   "source": [
    "# Genre inference (multi-class with 'main_genre' only)\n",
    "\n",
    "# Splits the data into a training set and a held-out test set (20%)\n",
    "X_train, X_test, y_train, y_test = train_test_split(\n",
    "    df['overview'], df['main_genre'], test_size=0.2, random_state=42\n",
    ")\n",
    "\n",
    "# Converts raw text into numeric vectors\n",
    "# Each dimension is a word (or token) weighted by how important it is in a document relative to the corpus\n",
    "tfidf = TfidfVectorizer(max_features=5000, stop_words='english')\n",
    "X_train_tfidf = tfidf.fit_transform(X_train)\n",
    "X_test_tfidf = tfidf.transform(X_test)\n",
    "\n",
    "# Learns a linear decision boundary in TF-IDF space to predict 'main_genre'\n",
    "clf = LogisticRegression(max_iter=1000)\n",
    "clf.fit(X_train_tfidf, y_train)\n",
    "y_pred = clf.predict(X_test_tfidf)\n",
    "\n",
    "# Print per-genre precision, recall, F1, and support (number of true samples).\n",
    "# Tells which genres the overview text predicts well and which are confused\n",
    "print(classification_report(y_test, y_pred))\n",
    "\n",
    "# Legend for the measures:\n",
    "# Precision = (correct predictions of that genre) / (all movies predicted as that genre)\n",
    "# High precision means the predicted genre is usually correct\n",
    "\n",
    "# Recall = (correct predictions of that genre) / (all actual movies of that genre)\n",
    "# High recall means the model finds most real examples of that genre\n",
    "\n",
    "# F1 score = harmonic mean of precision & recall\n",
    "\n",
    "# Support = how many test examples the true class has\n",
    "# Small support means numbers are noisy"
   ]
  },
  {
   "cell_type": "markdown",
   "id": "2c3a94b6-55c7-4731-a386-945dc3bc26d3",
   "metadata": {},
   "source": [
    "**Overall accuracy = 35%**\n",
    "- The model is getting about 1 in 3 overviews right — likely inflated by 'Drama' dominant genre.\n",
    "\n",
    "**Drama**\n",
    "- Drama recall = 0.98 (almost every true Drama is identified).\n",
    "- Drama precision = 0.36 (many non-Drama movies are being mislabeled as Drama).\n",
    "This suggests the model learned: “When in doubt, say Drama” — because it’s the most common genre.\n",
    "\n",
    "**Other genres**\n",
    "- Other genres collapse.\n",
    "- Action (23% recall) has some signal.\n",
    "- Comedy (7% recall) barely.\n",
    "- Crime (4% recall).\n",
    "- Everything else (Adventure, Animation, Biography, Horror, Mystery) 0 recall.\n",
    "- That means the model almost never predicts them — it defaults to Drama (and occasionally Action/Comedy).\n",
    "\n",
    "**zero_division**\n",
    "- Most genres (Adventure, Animation, Biography, Horror, Mystery) have precision = recall = 0.00.\n",
    "- That means the model never predicted them.\n",
    "- This is why the UndefinedMetricWarning is showed: when a class is never predicted, precision is undefined (division by zero).\n",
    "  \n",
    "**Macro avg F1 = 0.11**\n",
    "- That’s very poor. Macro treats all genres equally, so it exposes how badly minority genres are handled.\n",
    "\n",
    "**Weighted avg F1 = 0.23** \n",
    "- It's weak — because Drama inflates it.\n",
    "\n",
    "**INSIGHTS**\n",
    "\n",
    "TF-IDF + Logistic Regression baseline is capturing “Drama vs not-Drama”, but not fine genre distinctions.\n",
    "\n",
    "That’s happens when:\n",
    "- Genre imbalance exists (Drama is by far the majority).\n",
    "- Many genres have too few training samples (e.g., Mystery support = 2).\n",
    "- Overviews may not be distinct enough with bag-of-words features alone.\n",
    "\n",
    "With the current TF-IDF + logistic regression approach, the model is not able to reliably infer the film’s genre from the ‘overview’ column. Because ‘Drama’ is overrepresented in the dataset, the classifier defaults to predicting this genre, while underrepresented genres are almost never predicted.\n",
    "\n",
    "This indicates that the ***imbalance in the dataset*** and the ***generic nature of overviews*** limit the predictive power of this approach."
   ]
  }
 ],
 "metadata": {
  "kernelspec": {
   "display_name": "Python [conda env:base] *",
   "language": "python",
   "name": "conda-base-py"
  },
  "language_info": {
   "codemirror_mode": {
    "name": "ipython",
    "version": 3
   },
   "file_extension": ".py",
   "mimetype": "text/x-python",
   "name": "python",
   "nbconvert_exporter": "python",
   "pygments_lexer": "ipython3",
   "version": "3.13.5"
  }
 },
 "nbformat": 4,
 "nbformat_minor": 5
}
